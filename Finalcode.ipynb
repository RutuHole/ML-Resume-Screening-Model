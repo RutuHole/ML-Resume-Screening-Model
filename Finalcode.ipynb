{
 "cells": [
  {
   "cell_type": "code",
   "execution_count": 1,
   "id": "83559762-e67f-4d44-a699-943c8cc81ee5",
   "metadata": {},
   "outputs": [],
   "source": [
    "import streamlit as st\n",
    "import fitz  # PyMuPDF\n",
    "import spacy\n",
    "from sklearn.feature_extraction.text import TfidfVectorizer\n",
    "from sklearn.metrics.pairwise import cosine_similarity\n",
    "import string\n",
    "import re\n",
    "\n",
    "nlp = spacy.load(\"en_core_web_sm\")"
   ]
  },
  {
   "cell_type": "code",
   "execution_count": null,
   "id": "4f36aed0-3106-4059-95cb-50ada2f4a0ea",
   "metadata": {},
   "outputs": [],
   "source": [
    "JOB_DESCRIPTION = \"\"\"\n",
    "Looking for a skilled Python developer with experience in NLP, machine learning, and data analysis.\n",
    "Must be proficient in Python, Pandas, Scikit-learn, and Streamlit. Should have experience working with text data.\n",
    "Should know the language Java.Must be skilled in frontend like html, css, javascript.Must have basic knowledge of Database Management System(DBMS).\n",
    "\"\"\""
   ]
  },
  {
   "cell_type": "code",
   "execution_count": 3,
   "id": "8c2d4d2e-83ab-40f9-8433-6dd66ec40d34",
   "metadata": {},
   "outputs": [],
   "source": [
    "def extract_text_from_pdf(pdf_file):\n",
    "    doc = fitz.open(stream=pdf_file.read(), filetype=\"pdf\")\n",
    "    text = \" \".join([page.get_text(\"text\") for page in doc])\n",
    "    return text"
   ]
  },
  {
   "cell_type": "code",
   "execution_count": 4,
   "id": "c05d2281-65b4-45c1-a56c-84b703e68a19",
   "metadata": {},
   "outputs": [],
   "source": [
    "def preprocess_text(text):\n",
    "    text = text.lower()  # Convert to lowercase\n",
    "    text = re.sub(f\"[{string.punctuation}]\", \"\", text)  # Remove punctuation\n",
    "    doc = nlp(text)  # Process text with SpaCy\n",
    "    tokens = [token.lemma_ for token in doc if not token.is_stop and not token.is_punct]\n",
    "    return \" \".join(tokens)\n"
   ]
  },
  {
   "cell_type": "code",
   "execution_count": 5,
   "id": "87dd9741-d277-412e-a2cc-4e52e60f2696",
   "metadata": {},
   "outputs": [],
   "source": [
    "def main():\n",
    "    st.title(\"AI-powered Resume Screening and Ranking System\")\n",
    "    st.write(\"Upload a single resume (PDF) to check its relevance for a job description.\")\n",
    "    \n",
    "    uploaded_file = st.file_uploader(\"Upload Resume (PDF)\", type=[\"pdf\"])\n",
    "    if uploaded_file is not None:\n",
    "        # Extract text\n",
    "        resume_text = extract_text_from_pdf(uploaded_file)\n",
    "        processed_resume = preprocess_text(resume_text)\n",
    "        processed_job_desc = preprocess_text(JOB_DESCRIPTION)\n",
    "        \n",
    "        # TF-IDF Vectorization\n",
    "        vectorizer = TfidfVectorizer()\n",
    "        tfidf_matrix = vectorizer.fit_transform([processed_resume, processed_job_desc])\n",
    "        \n",
    "        # Cosine Similarity\n",
    "        similarity_score = cosine_similarity(tfidf_matrix[0], tfidf_matrix[1])[0][0] * 100\n",
    "        \n",
    "        # Display results\n",
    "        st.subheader(\"Resume Screening Result:\")\n",
    "        st.write(f\"Relevance Score: **{similarity_score:.2f}%**\")\n",
    "        if similarity_score > 50:\n",
    "            st.success(\"✅ Resume is a good match for the job description!\")\n",
    "            def main():\n",
    "                st.title(\"AI-powered Resume Screening and Ranking System\")\n",
    "                st.write(\"Upload a single resume (PDF) to check its relevance for a job description.\")\n",
    "    \n",
    "        else:\n",
    "            st.warning(\"⚠️ Resume may not be a strong match. Consider improving it!\")\n",
    "    \n",
    "    "
   ]
  },
  {
   "cell_type": "code",
   "execution_count": 6,
   "id": "57b7f740-a57f-4e8d-845f-7b44e2e7d160",
   "metadata": {},
   "outputs": [
    {
     "name": "stderr",
     "output_type": "stream",
     "text": [
      "2025-03-09 13:59:35.496 \n",
      "  \u001b[33m\u001b[1mWarning:\u001b[0m to view this Streamlit app on a browser, run it with the following\n",
      "  command:\n",
      "\n",
      "    streamlit run E:\\New folder\\Lib\\site-packages\\ipykernel_launcher.py [ARGUMENTS]\n"
     ]
    }
   ],
   "source": [
    "if __name__ == \"__main__\":\n",
    "    main()\n"
   ]
  },
  {
   "cell_type": "code",
   "execution_count": null,
   "id": "e56541d5-d22a-4384-bfbc-13dd0fb22f19",
   "metadata": {},
   "outputs": [],
   "source": []
  }
 ],
 "metadata": {
  "kernelspec": {
   "display_name": "Python 3 (ipykernel)",
   "language": "python",
   "name": "python3"
  },
  "language_info": {
   "codemirror_mode": {
    "name": "ipython",
    "version": 3
   },
   "file_extension": ".py",
   "mimetype": "text/x-python",
   "name": "python",
   "nbconvert_exporter": "python",
   "pygments_lexer": "ipython3",
   "version": "3.12.7"
  }
 },
 "nbformat": 4,
 "nbformat_minor": 5
}
